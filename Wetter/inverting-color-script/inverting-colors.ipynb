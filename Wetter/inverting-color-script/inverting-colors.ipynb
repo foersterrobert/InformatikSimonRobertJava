{
 "cells": [
  {
   "cell_type": "code",
   "execution_count": 2,
   "metadata": {},
   "outputs": [],
   "source": [
    "from PIL import Image\n",
    "import os\n",
    "import numpy as np"
   ]
  },
  {
   "cell_type": "code",
   "execution_count": 28,
   "metadata": {},
   "outputs": [
    {
     "name": "stdout",
     "output_type": "stream",
     "text": [
      "icons/13d.png\n",
      "icons/01d.png\n",
      "icons/blackline.png\n",
      "icons/03d.png\n",
      "icons/50n.png\n",
      "icons/02d.png\n",
      "icons/10d.png\n",
      "icons/04n.png\n",
      "icons/09n.png\n",
      "icons/11n.png\n",
      "icons/13n.png\n",
      "icons/10n.png\n",
      "icons/01n.png\n",
      "icons/09d.png\n",
      "icons/02n.png\n",
      "icons/50d.png\n",
      "icons/humidity.png\n",
      "icons/wind.png\n",
      "icons/arrow-down.png\n",
      "icons/11d.png\n",
      "icons/map-marker.png\n",
      "icons/arrow-up.png\n",
      "icons/03n.png\n",
      "icons/04d.png\n",
      "icons/line.png\n"
     ]
    }
   ],
   "source": [
    "for root, _dirs, files in os.walk(\"icons\", topdown=False):\n",
    "    for name in files:\n",
    "        print(os.path.join(root, name))\n",
    "        img = Image.open(os.path.join(root, name))\n",
    "        imgData = np.array(img)\n",
    "        imgData[:,:,:3] = imgData[:,:,:3] * -1 + 255\n",
    "        imgNew = Image.fromarray(imgData.astype(\"uint8\"))\n",
    "        imgNew.save(f\"icons-black/{name}\")"
   ]
  }
 ],
 "metadata": {
  "interpreter": {
   "hash": "916dbcbb3f70747c44a77c7bcd40155683ae19c65e1c03b4aa3499c5328201f1"
  },
  "kernelspec": {
   "display_name": "Python 3.8.10 64-bit",
   "language": "python",
   "name": "python3"
  },
  "language_info": {
   "codemirror_mode": {
    "name": "ipython",
    "version": 3
   },
   "file_extension": ".py",
   "mimetype": "text/x-python",
   "name": "python",
   "nbconvert_exporter": "python",
   "pygments_lexer": "ipython3",
   "version": "3.8.10"
  },
  "orig_nbformat": 4
 },
 "nbformat": 4,
 "nbformat_minor": 2
}
